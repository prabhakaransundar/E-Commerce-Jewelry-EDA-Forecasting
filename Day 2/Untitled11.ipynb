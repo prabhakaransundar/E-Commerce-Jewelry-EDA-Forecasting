{
 "cells": [
  {
   "cell_type": "code",
   "execution_count": 10,
   "id": "54c5da3a-e912-40f2-ba79-ac3a494305b7",
   "metadata": {},
   "outputs": [
    {
     "name": "stdout",
     "output_type": "stream",
     "text": [
      "   2018-12-01 11:40:29 UTC  1924719191579951782  1842195256808833386  1  \\\n",
      "0  2018-12-01 17:38:31 UTC  1924899396621697920  1806829193678291446  1   \n",
      "1  2018-12-02 13:53:42 UTC  1925511016616034733  1842214461889315556  1   \n",
      "2  2018-12-02 17:44:02 UTC  1925626951238681511  1835566849434059453  1   \n",
      "3  2018-12-02 21:30:19 UTC  1925740842841014667  1873936840742928865  1   \n",
      "4  2018-12-02 22:09:34 UTC  1925760595336888995  1835566854827934449  1   \n",
      "\n",
      "   1806829201890738522   jewelry.earring    0  561.51  1515915625207851155  \\\n",
      "0         1.806829e+18               NaN  NaN  212.14         1.515916e+18   \n",
      "1         1.806829e+18   jewelry.pendant  1.0   54.66         1.515916e+18   \n",
      "2         1.806829e+18   jewelry.pendant  0.0   88.90         1.515916e+18   \n",
      "3         1.806829e+18  jewelry.necklace  0.0  417.67         1.515916e+18   \n",
      "4         1.806829e+18   jewelry.earring  1.0  102.27         1.515916e+18   \n",
      "\n",
      "  Unnamed: 9     red  gold   diamond  \n",
      "0        NaN  yellow  gold       NaN  \n",
      "1          f   white  gold  sapphire  \n",
      "2          f     red  gold   diamond  \n",
      "3        NaN     red  gold  amethyst  \n",
      "4        NaN     red  gold       NaN  \n"
     ]
    }
   ],
   "source": [
    "import pandas as pd\n",
    "import numpy as np\n",
    "file_path = r\"C:\\Users\\pratheeba sundar\\Desktop\\Intern 2\\jewelry.csv\"\n",
    "df = pd.read_csv(file_path)\n",
    "print(df.head()) "
   ]
  },
  {
   "cell_type": "code",
   "execution_count": 14,
   "id": "c86ac928-75db-45df-87a6-04cb32851672",
   "metadata": {},
   "outputs": [
    {
     "name": "stdout",
     "output_type": "stream",
     "text": [
      "                  Datetime              OrderID            ProductID  \\\n",
      "0  2018-12-01 17:38:31 UTC  1924899396621697920  1806829193678291446   \n",
      "1  2018-12-02 13:53:42 UTC  1925511016616034733  1842214461889315556   \n",
      "2  2018-12-02 17:44:02 UTC  1925626951238681511  1835566849434059453   \n",
      "3  2018-12-02 21:30:19 UTC  1925740842841014667  1873936840742928865   \n",
      "4  2018-12-02 22:09:34 UTC  1925760595336888995  1835566854827934449   \n",
      "\n",
      "   Quantity    CategoryID      CategoryCode  BrandID  USDPrice        UserID  \\\n",
      "0         1  1.806829e+18               NaN      NaN    212.14  1.515916e+18   \n",
      "1         1  1.806829e+18   jewelry.pendant      1.0     54.66  1.515916e+18   \n",
      "2         1  1.806829e+18   jewelry.pendant      0.0     88.90  1.515916e+18   \n",
      "3         1  1.806829e+18  jewelry.necklace      0.0    417.67  1.515916e+18   \n",
      "4         1  1.806829e+18   jewelry.earring      1.0    102.27  1.515916e+18   \n",
      "\n",
      "  Gender   Color Metal       Gem  \n",
      "0    NaN  yellow  gold       NaN  \n",
      "1      f   white  gold  sapphire  \n",
      "2      f     red  gold   diamond  \n",
      "3    NaN     red  gold  amethyst  \n",
      "4    NaN     red  gold       NaN  \n"
     ]
    }
   ],
   "source": [
    "import pandas as pd\n",
    "import numpy as np\n",
    "file_path = r\"C:\\Users\\pratheeba sundar\\Desktop\\Intern 2\\jewelry.csv\"\n",
    "df = pd.read_csv(file_path)\n",
    "df_cols = ['Datetime', 'OrderID', 'ProductID', 'Quantity', 'CategoryID', 'CategoryCode', \n",
    "           'BrandID', 'USDPrice', 'UserID', 'Gender', 'Color', 'Metal', 'Gem']\n",
    "df.columns = df_cols\n",
    "print(df.head())"
   ]
  },
  {
   "cell_type": "code",
   "execution_count": 13,
   "id": "72d47e4b-e6b2-4fdd-9f48-5374bf4da891",
   "metadata": {},
   "outputs": [
    {
     "name": "stdout",
     "output_type": "stream",
     "text": [
      "<class 'pandas.core.frame.DataFrame'>\n",
      "RangeIndex: 95910 entries, 0 to 95909\n",
      "Data columns (total 13 columns):\n",
      " #   Column        Non-Null Count  Dtype  \n",
      "---  ------        --------------  -----  \n",
      " 0   Datetime      95910 non-null  object \n",
      " 1   OrderID       95910 non-null  int64  \n",
      " 2   ProductID     95910 non-null  int64  \n",
      " 3   Quantity      95910 non-null  int64  \n",
      " 4   CategoryID    90558 non-null  float64\n",
      " 5   CategoryCode  85977 non-null  object \n",
      " 6   BrandID       91125 non-null  float64\n",
      " 7   USDPrice      90558 non-null  float64\n",
      " 8   UserID        90558 non-null  float64\n",
      " 9   Gender        47743 non-null  object \n",
      " 10  Color         88250 non-null  object \n",
      " 11  Metal         90448 non-null  object \n",
      " 12  Gem           61852 non-null  object \n",
      "dtypes: float64(4), int64(3), object(6)\n",
      "memory usage: 9.5+ MB\n"
     ]
    }
   ],
   "source": [
    "df.info()"
   ]
  },
  {
   "cell_type": "code",
   "execution_count": 15,
   "id": "4c861398-a464-4984-9daa-51ef4d794a67",
   "metadata": {},
   "outputs": [
    {
     "data": {
      "text/plain": [
       "Datetime            0\n",
       "OrderID             0\n",
       "ProductID           0\n",
       "Quantity            0\n",
       "CategoryID       5352\n",
       "CategoryCode     9933\n",
       "BrandID          4785\n",
       "USDPrice         5352\n",
       "UserID           5352\n",
       "Gender          48167\n",
       "Color            7660\n",
       "Metal            5462\n",
       "Gem             34058\n",
       "dtype: int64"
      ]
     },
     "execution_count": 15,
     "metadata": {},
     "output_type": "execute_result"
    }
   ],
   "source": [
    "df.isna().sum()"
   ]
  },
  {
   "cell_type": "code",
   "execution_count": 19,
   "id": "62668ce0-0d7d-4457-acde-8e3a60436995",
   "metadata": {},
   "outputs": [],
   "source": [
    "df['Gender'] = df['Gender'].fillna('f')"
   ]
  },
  {
   "cell_type": "code",
   "execution_count": 20,
   "id": "3791f050-80ec-4631-907d-bd359e9991fb",
   "metadata": {},
   "outputs": [
    {
     "name": "stdout",
     "output_type": "stream",
     "text": [
      "<class 'pandas.core.frame.DataFrame'>\n",
      "RangeIndex: 95910 entries, 0 to 95909\n",
      "Data columns (total 13 columns):\n",
      " #   Column        Non-Null Count  Dtype  \n",
      "---  ------        --------------  -----  \n",
      " 0   Datetime      95910 non-null  object \n",
      " 1   OrderID       95910 non-null  int64  \n",
      " 2   ProductID     95910 non-null  int64  \n",
      " 3   Quantity      95910 non-null  int64  \n",
      " 4   CategoryID    90558 non-null  float64\n",
      " 5   CategoryCode  85977 non-null  object \n",
      " 6   BrandID       91125 non-null  float64\n",
      " 7   USDPrice      90558 non-null  float64\n",
      " 8   UserID        90558 non-null  float64\n",
      " 9   Gender        95910 non-null  object \n",
      " 10  Color         88250 non-null  object \n",
      " 11  Metal         90448 non-null  object \n",
      " 12  Gem           61852 non-null  object \n",
      "dtypes: float64(4), int64(3), object(6)\n",
      "memory usage: 9.5+ MB\n"
     ]
    }
   ],
   "source": [
    "df.info()\n"
   ]
  },
  {
   "cell_type": "code",
   "execution_count": 21,
   "id": "0f29dbd7-d0fb-4c94-a751-dd89091eaa01",
   "metadata": {},
   "outputs": [
    {
     "data": {
      "text/plain": [
       "array([1])"
      ]
     },
     "execution_count": 21,
     "metadata": {},
     "output_type": "execute_result"
    }
   ],
   "source": [
    "df.Quantity.unique()"
   ]
  },
  {
   "cell_type": "code",
   "execution_count": 22,
   "id": "9e66de2e-a948-4075-acb2-24beb221a1fe",
   "metadata": {},
   "outputs": [
    {
     "name": "stdout",
     "output_type": "stream",
     "text": [
      "<class 'pandas.core.frame.DataFrame'>\n",
      "RangeIndex: 95910 entries, 0 to 95909\n",
      "Data columns (total 12 columns):\n",
      " #   Column        Non-Null Count  Dtype  \n",
      "---  ------        --------------  -----  \n",
      " 0   Datetime      95910 non-null  object \n",
      " 1   OrderID       95910 non-null  int64  \n",
      " 2   ProductID     95910 non-null  int64  \n",
      " 3   CategoryID    90558 non-null  float64\n",
      " 4   CategoryCode  85977 non-null  object \n",
      " 5   BrandID       91125 non-null  float64\n",
      " 6   USDPrice      90558 non-null  float64\n",
      " 7   UserID        90558 non-null  float64\n",
      " 8   Gender        95910 non-null  object \n",
      " 9   Color         88250 non-null  object \n",
      " 10  Metal         90448 non-null  object \n",
      " 11  Gem           61852 non-null  object \n",
      "dtypes: float64(4), int64(2), object(6)\n",
      "memory usage: 8.8+ MB\n"
     ]
    }
   ],
   "source": [
    "df.drop('Quantity',axis=1, inplace=True)\n",
    "df.info()"
   ]
  },
  {
   "cell_type": "code",
   "execution_count": 24,
   "id": "24508e26-2049-42a0-8614-e9218c525327",
   "metadata": {},
   "outputs": [
    {
     "data": {
      "text/plain": [
       "np.float64(32801286.369999997)"
      ]
     },
     "execution_count": 24,
     "metadata": {},
     "output_type": "execute_result"
    }
   ],
   "source": [
    "df.USDPrice.sum()"
   ]
  },
  {
   "cell_type": "code",
   "execution_count": 25,
   "id": "7b143221-5e7c-4e04-a2c0-cf7e7f69a7cb",
   "metadata": {},
   "outputs": [
    {
     "data": {
      "text/plain": [
       "np.int64(5352)"
      ]
     },
     "execution_count": 25,
     "metadata": {},
     "output_type": "execute_result"
    }
   ],
   "source": [
    "df.USDPrice.isna().sum()"
   ]
  },
  {
   "cell_type": "code",
   "execution_count": 26,
   "id": "22f0f362-17db-48d8-bc17-b91b3413dbab",
   "metadata": {},
   "outputs": [
    {
     "name": "stdout",
     "output_type": "stream",
     "text": [
      "[nan]\n",
      "[nan]\n",
      "[1.55061295e+18 1.32515621e+18 1.51591563e+18 ... 1.51591563e+18\n",
      " 1.51591563e+18 1.51591563e+18]\n"
     ]
    }
   ],
   "source": [
    "print(df[df['USDPrice'].isna()].Gem.unique())\n",
    "print(df[df['USDPrice'].isna()].Metal.unique())\n",
    "print(df[df['USDPrice'].isna()].BrandID.unique())"
   ]
  },
  {
   "cell_type": "code",
   "execution_count": 27,
   "id": "1d3f9363-396f-4165-9b2f-089e43da021d",
   "metadata": {},
   "outputs": [
    {
     "data": {
      "text/plain": [
       "BrandID\n",
       "1.515916e+18    147\n",
       "1.515916e+18    104\n",
       "1.515916e+18     74\n",
       "1.515916e+18     37\n",
       "1.515916e+18     34\n",
       "               ... \n",
       "1.515916e+18      1\n",
       "1.515916e+18      1\n",
       "1.515916e+18      1\n",
       "1.515916e+18      1\n",
       "1.515916e+18      1\n",
       "Name: count, Length: 2530, dtype: int64"
      ]
     },
     "execution_count": 27,
     "metadata": {},
     "output_type": "execute_result"
    }
   ],
   "source": [
    "df[df['USDPrice'].isna()].BrandID.value_counts()"
   ]
  },
  {
   "cell_type": "code",
   "execution_count": 28,
   "id": "b2bc17f7-98ee-4216-a11c-bd4b03287e35",
   "metadata": {},
   "outputs": [
    {
     "data": {
      "text/html": [
       "<div>\n",
       "<style scoped>\n",
       "    .dataframe tbody tr th:only-of-type {\n",
       "        vertical-align: middle;\n",
       "    }\n",
       "\n",
       "    .dataframe tbody tr th {\n",
       "        vertical-align: top;\n",
       "    }\n",
       "\n",
       "    .dataframe thead th {\n",
       "        text-align: right;\n",
       "    }\n",
       "</style>\n",
       "<table border=\"1\" class=\"dataframe\">\n",
       "  <thead>\n",
       "    <tr style=\"text-align: right;\">\n",
       "      <th></th>\n",
       "      <th>OrderID</th>\n",
       "      <th>ProductID</th>\n",
       "      <th>CategoryID</th>\n",
       "      <th>BrandID</th>\n",
       "      <th>USDPrice</th>\n",
       "      <th>UserID</th>\n",
       "    </tr>\n",
       "  </thead>\n",
       "  <tbody>\n",
       "    <tr>\n",
       "      <th>count</th>\n",
       "      <td>3.400000e+01</td>\n",
       "      <td>3.400000e+01</td>\n",
       "      <td>0.0</td>\n",
       "      <td>3.400000e+01</td>\n",
       "      <td>0.0</td>\n",
       "      <td>0.0</td>\n",
       "    </tr>\n",
       "    <tr>\n",
       "      <th>mean</th>\n",
       "      <td>2.638980e+18</td>\n",
       "      <td>1.511337e+18</td>\n",
       "      <td>NaN</td>\n",
       "      <td>1.515916e+18</td>\n",
       "      <td>NaN</td>\n",
       "      <td>NaN</td>\n",
       "    </tr>\n",
       "    <tr>\n",
       "      <th>std</th>\n",
       "      <td>3.443835e+16</td>\n",
       "      <td>2.699059e+16</td>\n",
       "      <td>NaN</td>\n",
       "      <td>2.598498e+02</td>\n",
       "      <td>NaN</td>\n",
       "      <td>NaN</td>\n",
       "    </tr>\n",
       "    <tr>\n",
       "      <th>min</th>\n",
       "      <td>2.532276e+18</td>\n",
       "      <td>1.358585e+18</td>\n",
       "      <td>NaN</td>\n",
       "      <td>1.515916e+18</td>\n",
       "      <td>NaN</td>\n",
       "      <td>NaN</td>\n",
       "    </tr>\n",
       "    <tr>\n",
       "      <th>25%</th>\n",
       "      <td>2.625246e+18</td>\n",
       "      <td>1.515966e+18</td>\n",
       "      <td>NaN</td>\n",
       "      <td>1.515916e+18</td>\n",
       "      <td>NaN</td>\n",
       "      <td>NaN</td>\n",
       "    </tr>\n",
       "    <tr>\n",
       "      <th>50%</th>\n",
       "      <td>2.657495e+18</td>\n",
       "      <td>1.515966e+18</td>\n",
       "      <td>NaN</td>\n",
       "      <td>1.515916e+18</td>\n",
       "      <td>NaN</td>\n",
       "      <td>NaN</td>\n",
       "    </tr>\n",
       "    <tr>\n",
       "      <th>75%</th>\n",
       "      <td>2.661770e+18</td>\n",
       "      <td>1.515966e+18</td>\n",
       "      <td>NaN</td>\n",
       "      <td>1.515916e+18</td>\n",
       "      <td>NaN</td>\n",
       "      <td>NaN</td>\n",
       "    </tr>\n",
       "    <tr>\n",
       "      <th>max</th>\n",
       "      <td>2.676981e+18</td>\n",
       "      <td>1.515966e+18</td>\n",
       "      <td>NaN</td>\n",
       "      <td>1.515916e+18</td>\n",
       "      <td>NaN</td>\n",
       "      <td>NaN</td>\n",
       "    </tr>\n",
       "  </tbody>\n",
       "</table>\n",
       "</div>"
      ],
      "text/plain": [
       "            OrderID     ProductID  CategoryID       BrandID  USDPrice  UserID\n",
       "count  3.400000e+01  3.400000e+01         0.0  3.400000e+01       0.0     0.0\n",
       "mean   2.638980e+18  1.511337e+18         NaN  1.515916e+18       NaN     NaN\n",
       "std    3.443835e+16  2.699059e+16         NaN  2.598498e+02       NaN     NaN\n",
       "min    2.532276e+18  1.358585e+18         NaN  1.515916e+18       NaN     NaN\n",
       "25%    2.625246e+18  1.515966e+18         NaN  1.515916e+18       NaN     NaN\n",
       "50%    2.657495e+18  1.515966e+18         NaN  1.515916e+18       NaN     NaN\n",
       "75%    2.661770e+18  1.515966e+18         NaN  1.515916e+18       NaN     NaN\n",
       "max    2.676981e+18  1.515966e+18         NaN  1.515916e+18       NaN     NaN"
      ]
     },
     "execution_count": 28,
     "metadata": {},
     "output_type": "execute_result"
    }
   ],
   "source": [
    "df[df['BrandID']==1515915625368881664.000000].describe()"
   ]
  },
  {
   "cell_type": "code",
   "execution_count": 33,
   "id": "dd75ba21-db89-4055-9b21-e6dcbbb70289",
   "metadata": {},
   "outputs": [],
   "source": [
    "new_df = df[df['USDPrice'].notna() & df['UserID'].notna()]\n"
   ]
  },
  {
   "cell_type": "code",
   "execution_count": 34,
   "id": "9ecbe202-ebce-484c-a365-9c19abd7ed90",
   "metadata": {},
   "outputs": [
    {
     "name": "stdout",
     "output_type": "stream",
     "text": [
      "<class 'pandas.core.frame.DataFrame'>\n",
      "Index: 90558 entries, 0 to 95909\n",
      "Data columns (total 12 columns):\n",
      " #   Column        Non-Null Count  Dtype  \n",
      "---  ------        --------------  -----  \n",
      " 0   Datetime      90558 non-null  object \n",
      " 1   OrderID       90558 non-null  int64  \n",
      " 2   ProductID     90558 non-null  int64  \n",
      " 3   CategoryID    90558 non-null  float64\n",
      " 4   CategoryCode  80625 non-null  object \n",
      " 5   BrandID       85773 non-null  float64\n",
      " 6   USDPrice      90558 non-null  float64\n",
      " 7   UserID        90558 non-null  float64\n",
      " 8   Gender        90558 non-null  object \n",
      " 9   Color         88250 non-null  object \n",
      " 10  Metal         90448 non-null  object \n",
      " 11  Gem           61852 non-null  object \n",
      "dtypes: float64(4), int64(2), object(6)\n",
      "memory usage: 9.0+ MB\n"
     ]
    }
   ],
   "source": [
    "new_df.info()"
   ]
  },
  {
   "cell_type": "code",
   "execution_count": 37,
   "id": "0423939e-fc06-4362-941b-665925883c65",
   "metadata": {},
   "outputs": [],
   "source": [
    "new_df.loc[:, 'CategoryCode'] = new_df['CategoryCode'].fillna('other')\n"
   ]
  },
  {
   "cell_type": "code",
   "execution_count": 38,
   "id": "6255f61d-4146-4ab4-b0e6-4611db35fc5d",
   "metadata": {},
   "outputs": [
    {
     "data": {
      "text/plain": [
       "CategoryCode\n",
       "jewelry.earring       29051\n",
       "jewelry.ring          28300\n",
       "jewelry.pendant       13088\n",
       "other                  9933\n",
       "jewelry.bracelet       6188\n",
       "jewelry.necklace       2361\n",
       "jewelry.brooch         1288\n",
       "jewelry.souvenir        170\n",
       "electronics.clocks      167\n",
       "jewelry.stud             12\n",
       "Name: count, dtype: int64"
      ]
     },
     "execution_count": 38,
     "metadata": {},
     "output_type": "execute_result"
    }
   ],
   "source": [
    "new_df.CategoryCode.value_counts()\n"
   ]
  },
  {
   "cell_type": "code",
   "execution_count": 39,
   "id": "96e6c2af-b543-4528-b7f8-25d3cc21e00f",
   "metadata": {},
   "outputs": [
    {
     "name": "stderr",
     "output_type": "stream",
     "text": [
      "C:\\Users\\pratheeba sundar\\AppData\\Local\\Temp\\ipykernel_12056\\741898642.py:1: FutureWarning: A value is trying to be set on a copy of a DataFrame or Series through chained assignment using an inplace method.\n",
      "The behavior will change in pandas 3.0. This inplace method will never work because the intermediate object on which we are setting values always behaves as a copy.\n",
      "\n",
      "For example, when doing 'df[col].method(value, inplace=True)', try using 'df.method({col: value}, inplace=True)' or df[col] = df[col].method(value) instead, to perform the operation inplace on the original object.\n",
      "\n",
      "\n",
      "  new_df['BrandID'].fillna('-1',inplace=True)\n",
      "C:\\Users\\pratheeba sundar\\AppData\\Local\\Temp\\ipykernel_12056\\741898642.py:1: FutureWarning: Setting an item of incompatible dtype is deprecated and will raise an error in a future version of pandas. Value '-1' has dtype incompatible with float64, please explicitly cast to a compatible dtype first.\n",
      "  new_df['BrandID'].fillna('-1',inplace=True)\n",
      "C:\\Users\\pratheeba sundar\\AppData\\Local\\Temp\\ipykernel_12056\\741898642.py:1: SettingWithCopyWarning: \n",
      "A value is trying to be set on a copy of a slice from a DataFrame\n",
      "\n",
      "See the caveats in the documentation: https://pandas.pydata.org/pandas-docs/stable/user_guide/indexing.html#returning-a-view-versus-a-copy\n",
      "  new_df['BrandID'].fillna('-1',inplace=True)\n"
     ]
    }
   ],
   "source": [
    "new_df['BrandID'].fillna('-1',inplace=True)"
   ]
  },
  {
   "cell_type": "code",
   "execution_count": 40,
   "id": "4857fe57-3d97-4a87-87db-075aa20d2773",
   "metadata": {},
   "outputs": [
    {
     "name": "stderr",
     "output_type": "stream",
     "text": [
      "C:\\Users\\pratheeba sundar\\AppData\\Local\\Temp\\ipykernel_12056\\1166208503.py:2: SettingWithCopyWarning: \n",
      "A value is trying to be set on a copy of a slice from a DataFrame.\n",
      "Try using .loc[row_indexer,col_indexer] = value instead\n",
      "\n",
      "See the caveats in the documentation: https://pandas.pydata.org/pandas-docs/stable/user_guide/indexing.html#returning-a-view-versus-a-copy\n",
      "  new_df['BrandID'] = new_df['BrandID'].fillna(-1)  # Use -1 as a number, not as a string\n"
     ]
    }
   ],
   "source": [
    "# If 'BrandID' is numeric, use an integer or float for filling missing values\n",
    "new_df['BrandID'] = new_df['BrandID'].fillna(-1)  # Use -1 as a number, not as a string\n"
   ]
  },
  {
   "cell_type": "code",
   "execution_count": 41,
   "id": "ae5ddd0b-ff75-4a22-9e0f-92ac1aa6c329",
   "metadata": {},
   "outputs": [],
   "source": [
    "new_df.loc[:, 'BrandID'] = new_df['BrandID'].fillna(-1)\n",
    "\n"
   ]
  },
  {
   "cell_type": "code",
   "execution_count": 42,
   "id": "8876cbc5-78b9-4b89-ac6b-ee54be4037bb",
   "metadata": {},
   "outputs": [
    {
     "name": "stdout",
     "output_type": "stream",
     "text": [
      "<class 'pandas.core.frame.DataFrame'>\n",
      "Index: 90558 entries, 0 to 95909\n",
      "Data columns (total 12 columns):\n",
      " #   Column        Non-Null Count  Dtype  \n",
      "---  ------        --------------  -----  \n",
      " 0   Datetime      90558 non-null  object \n",
      " 1   OrderID       90558 non-null  int64  \n",
      " 2   ProductID     90558 non-null  int64  \n",
      " 3   CategoryID    90558 non-null  float64\n",
      " 4   CategoryCode  90558 non-null  object \n",
      " 5   BrandID       90558 non-null  object \n",
      " 6   USDPrice      90558 non-null  float64\n",
      " 7   UserID        90558 non-null  float64\n",
      " 8   Gender        90558 non-null  object \n",
      " 9   Color         88250 non-null  object \n",
      " 10  Metal         90448 non-null  object \n",
      " 11  Gem           61852 non-null  object \n",
      "dtypes: float64(3), int64(2), object(7)\n",
      "memory usage: 9.0+ MB\n"
     ]
    }
   ],
   "source": [
    "new_df.info()\n"
   ]
  },
  {
   "cell_type": "code",
   "execution_count": 43,
   "id": "506a4cd0-0982-46ea-92c4-1c2f30f9b031",
   "metadata": {},
   "outputs": [
    {
     "data": {
      "text/plain": [
       "array([nan, 'sapphire', 'diamond', 'amethyst', 'fianit', 'pearl',\n",
       "       'quartz', 'topaz', 'garnet', 'quartz_smoky', 'ruby', 'agate',\n",
       "       'mix', 'citrine', 'emerald', 'amber', 'chrysolite', 'chrysoprase',\n",
       "       'nanocrystal', 'turquoise', 'sitall', 'corundum_synthetic',\n",
       "       'coral', 'onyx', 'nacre', 'spinel', 'tourmaline',\n",
       "       'emerald_geothermal', 'garnet_synthetic', 'rhodolite',\n",
       "       'sapphire_geothermal'], dtype=object)"
      ]
     },
     "execution_count": 43,
     "metadata": {},
     "output_type": "execute_result"
    }
   ],
   "source": [
    "new_df['Gem'].unique()\n"
   ]
  },
  {
   "cell_type": "code",
   "execution_count": 44,
   "id": "195ec9f5-0721-40d4-a717-fb81999cf554",
   "metadata": {},
   "outputs": [
    {
     "name": "stderr",
     "output_type": "stream",
     "text": [
      "C:\\Users\\pratheeba sundar\\AppData\\Local\\Temp\\ipykernel_12056\\1752074605.py:3: FutureWarning: A value is trying to be set on a copy of a DataFrame or Series through chained assignment using an inplace method.\n",
      "The behavior will change in pandas 3.0. This inplace method will never work because the intermediate object on which we are setting values always behaves as a copy.\n",
      "\n",
      "For example, when doing 'df[col].method(value, inplace=True)', try using 'df.method({col: value}, inplace=True)' or df[col] = df[col].method(value) instead, to perform the operation inplace on the original object.\n",
      "\n",
      "\n",
      "  new_df[i].fillna('unknown-color',inplace=True)\n",
      "C:\\Users\\pratheeba sundar\\AppData\\Local\\Temp\\ipykernel_12056\\1752074605.py:3: SettingWithCopyWarning: \n",
      "A value is trying to be set on a copy of a slice from a DataFrame\n",
      "\n",
      "See the caveats in the documentation: https://pandas.pydata.org/pandas-docs/stable/user_guide/indexing.html#returning-a-view-versus-a-copy\n",
      "  new_df[i].fillna('unknown-color',inplace=True)\n",
      "C:\\Users\\pratheeba sundar\\AppData\\Local\\Temp\\ipykernel_12056\\1752074605.py:5: FutureWarning: A value is trying to be set on a copy of a DataFrame or Series through chained assignment using an inplace method.\n",
      "The behavior will change in pandas 3.0. This inplace method will never work because the intermediate object on which we are setting values always behaves as a copy.\n",
      "\n",
      "For example, when doing 'df[col].method(value, inplace=True)', try using 'df.method({col: value}, inplace=True)' or df[col] = df[col].method(value) instead, to perform the operation inplace on the original object.\n",
      "\n",
      "\n",
      "  new_df[i].fillna('unknown',inplace=True)\n",
      "C:\\Users\\pratheeba sundar\\AppData\\Local\\Temp\\ipykernel_12056\\1752074605.py:5: SettingWithCopyWarning: \n",
      "A value is trying to be set on a copy of a slice from a DataFrame\n",
      "\n",
      "See the caveats in the documentation: https://pandas.pydata.org/pandas-docs/stable/user_guide/indexing.html#returning-a-view-versus-a-copy\n",
      "  new_df[i].fillna('unknown',inplace=True)\n"
     ]
    }
   ],
   "source": [
    "for i in ('Color','Metal','Gem'):\n",
    "  if i == 'Color':\n",
    "    new_df[i].fillna('unknown-color',inplace=True)\n",
    "  else:\n",
    "    new_df[i].fillna('unknown',inplace=True)"
   ]
  },
  {
   "cell_type": "code",
   "execution_count": 45,
   "id": "c2cb6047-94d7-4574-bf32-7e8d40668475",
   "metadata": {},
   "outputs": [
    {
     "name": "stderr",
     "output_type": "stream",
     "text": [
      "C:\\Users\\pratheeba sundar\\AppData\\Local\\Temp\\ipykernel_12056\\4209478858.py:1: SettingWithCopyWarning: \n",
      "A value is trying to be set on a copy of a slice from a DataFrame.\n",
      "Try using .loc[row_indexer,col_indexer] = value instead\n",
      "\n",
      "See the caveats in the documentation: https://pandas.pydata.org/pandas-docs/stable/user_guide/indexing.html#returning-a-view-versus-a-copy\n",
      "  new_df[i] = new_df[i].fillna('unknown-color')\n"
     ]
    }
   ],
   "source": [
    "new_df[i] = new_df[i].fillna('unknown-color')\n",
    "\n"
   ]
  },
  {
   "cell_type": "code",
   "execution_count": 46,
   "id": "ad459cd3-92e1-4202-b4ab-7e5276d15216",
   "metadata": {},
   "outputs": [],
   "source": [
    "new_df.loc[:, i] = new_df[i].fillna('unknown-color')\n",
    "\n"
   ]
  },
  {
   "cell_type": "code",
   "execution_count": 47,
   "id": "fda95eb7-ad6f-4836-8667-e771a43383a8",
   "metadata": {},
   "outputs": [
    {
     "name": "stdout",
     "output_type": "stream",
     "text": [
      "<class 'pandas.core.frame.DataFrame'>\n",
      "Index: 90558 entries, 0 to 95909\n",
      "Data columns (total 12 columns):\n",
      " #   Column        Non-Null Count  Dtype  \n",
      "---  ------        --------------  -----  \n",
      " 0   Datetime      90558 non-null  object \n",
      " 1   OrderID       90558 non-null  int64  \n",
      " 2   ProductID     90558 non-null  int64  \n",
      " 3   CategoryID    90558 non-null  float64\n",
      " 4   CategoryCode  90558 non-null  object \n",
      " 5   BrandID       90558 non-null  object \n",
      " 6   USDPrice      90558 non-null  float64\n",
      " 7   UserID        90558 non-null  float64\n",
      " 8   Gender        90558 non-null  object \n",
      " 9   Color         90558 non-null  object \n",
      " 10  Metal         90558 non-null  object \n",
      " 11  Gem           90558 non-null  object \n",
      "dtypes: float64(3), int64(2), object(7)\n",
      "memory usage: 9.0+ MB\n"
     ]
    }
   ],
   "source": [
    "new_df.info()\n"
   ]
  },
  {
   "cell_type": "code",
   "execution_count": 48,
   "id": "2ddc994b-6d7b-4556-8a05-d6119c99e685",
   "metadata": {},
   "outputs": [
    {
     "name": "stdout",
     "output_type": "stream",
     "text": [
      "Color\n",
      "red              69510\n",
      "white            15286\n",
      "yellow            3388\n",
      "unknown-color     2372\n",
      "black                2\n",
      "Name: count, dtype: int64\n"
     ]
    },
    {
     "ename": "NameError",
     "evalue": "name 'sns' is not defined",
     "output_type": "error",
     "traceback": [
      "\u001b[1;31m---------------------------------------------------------------------------\u001b[0m",
      "\u001b[1;31mNameError\u001b[0m                                 Traceback (most recent call last)",
      "Cell \u001b[1;32mIn[48], line 2\u001b[0m\n\u001b[0;32m      1\u001b[0m \u001b[38;5;28mprint\u001b[39m(new_df\u001b[38;5;241m.\u001b[39mColor\u001b[38;5;241m.\u001b[39mvalue_counts())\n\u001b[1;32m----> 2\u001b[0m \u001b[43msns\u001b[49m\u001b[38;5;241m.\u001b[39mcountplot(y \u001b[38;5;241m=\u001b[39m\u001b[38;5;124m'\u001b[39m\u001b[38;5;124mColor\u001b[39m\u001b[38;5;124m'\u001b[39m, data \u001b[38;5;241m=\u001b[39m new_df)\n",
      "\u001b[1;31mNameError\u001b[0m: name 'sns' is not defined"
     ]
    }
   ],
   "source": [
    "print(new_df.Color.value_counts())\n",
    "sns.countplot(y ='Color', data = new_df)"
   ]
  },
  {
   "cell_type": "code",
   "execution_count": 49,
   "id": "7efce091-469b-4fc3-a36e-90f39e61a859",
   "metadata": {},
   "outputs": [
    {
     "ename": "SyntaxError",
     "evalue": "invalid syntax (2639460722.py, line 1)",
     "output_type": "error",
     "traceback": [
      "\u001b[1;36m  Cell \u001b[1;32mIn[49], line 1\u001b[1;36m\u001b[0m\n\u001b[1;33m    total sales forecasting\u001b[0m\n\u001b[1;37m          ^\u001b[0m\n\u001b[1;31mSyntaxError\u001b[0m\u001b[1;31m:\u001b[0m invalid syntax\n"
     ]
    }
   ],
   "source": [
    "total sales forecasting\n"
   ]
  },
  {
   "cell_type": "code",
   "execution_count": 50,
   "id": "8a9c2baf-f608-4d02-a429-98a57b21a860",
   "metadata": {},
   "outputs": [
    {
     "name": "stderr",
     "output_type": "stream",
     "text": [
      "C:\\Users\\pratheeba sundar\\AppData\\Local\\Temp\\ipykernel_12056\\3979147211.py:1: SettingWithCopyWarning: \n",
      "A value is trying to be set on a copy of a slice from a DataFrame.\n",
      "Try using .loc[row_indexer,col_indexer] = value instead\n",
      "\n",
      "See the caveats in the documentation: https://pandas.pydata.org/pandas-docs/stable/user_guide/indexing.html#returning-a-view-versus-a-copy\n",
      "  new_df['Datetime'] = new_df.Datetime.apply(lambda x : x[:10])\n"
     ]
    },
    {
     "data": {
      "text/html": [
       "<div>\n",
       "<style scoped>\n",
       "    .dataframe tbody tr th:only-of-type {\n",
       "        vertical-align: middle;\n",
       "    }\n",
       "\n",
       "    .dataframe tbody tr th {\n",
       "        vertical-align: top;\n",
       "    }\n",
       "\n",
       "    .dataframe thead th {\n",
       "        text-align: right;\n",
       "    }\n",
       "</style>\n",
       "<table border=\"1\" class=\"dataframe\">\n",
       "  <thead>\n",
       "    <tr style=\"text-align: right;\">\n",
       "      <th></th>\n",
       "      <th>Datetime</th>\n",
       "      <th>OrderID</th>\n",
       "      <th>ProductID</th>\n",
       "      <th>CategoryID</th>\n",
       "      <th>CategoryCode</th>\n",
       "      <th>BrandID</th>\n",
       "      <th>USDPrice</th>\n",
       "      <th>UserID</th>\n",
       "      <th>Gender</th>\n",
       "      <th>Color</th>\n",
       "      <th>Metal</th>\n",
       "      <th>Gem</th>\n",
       "    </tr>\n",
       "  </thead>\n",
       "  <tbody>\n",
       "    <tr>\n",
       "      <th>0</th>\n",
       "      <td>2018-12-01</td>\n",
       "      <td>1924899396621697920</td>\n",
       "      <td>1806829193678291446</td>\n",
       "      <td>1.806829e+18</td>\n",
       "      <td>other</td>\n",
       "      <td>-1</td>\n",
       "      <td>212.14</td>\n",
       "      <td>1.515916e+18</td>\n",
       "      <td>f</td>\n",
       "      <td>yellow</td>\n",
       "      <td>gold</td>\n",
       "      <td>unknown</td>\n",
       "    </tr>\n",
       "    <tr>\n",
       "      <th>1</th>\n",
       "      <td>2018-12-02</td>\n",
       "      <td>1925511016616034733</td>\n",
       "      <td>1842214461889315556</td>\n",
       "      <td>1.806829e+18</td>\n",
       "      <td>jewelry.pendant</td>\n",
       "      <td>1.0</td>\n",
       "      <td>54.66</td>\n",
       "      <td>1.515916e+18</td>\n",
       "      <td>f</td>\n",
       "      <td>white</td>\n",
       "      <td>gold</td>\n",
       "      <td>sapphire</td>\n",
       "    </tr>\n",
       "    <tr>\n",
       "      <th>2</th>\n",
       "      <td>2018-12-02</td>\n",
       "      <td>1925626951238681511</td>\n",
       "      <td>1835566849434059453</td>\n",
       "      <td>1.806829e+18</td>\n",
       "      <td>jewelry.pendant</td>\n",
       "      <td>0.0</td>\n",
       "      <td>88.90</td>\n",
       "      <td>1.515916e+18</td>\n",
       "      <td>f</td>\n",
       "      <td>red</td>\n",
       "      <td>gold</td>\n",
       "      <td>diamond</td>\n",
       "    </tr>\n",
       "    <tr>\n",
       "      <th>3</th>\n",
       "      <td>2018-12-02</td>\n",
       "      <td>1925740842841014667</td>\n",
       "      <td>1873936840742928865</td>\n",
       "      <td>1.806829e+18</td>\n",
       "      <td>jewelry.necklace</td>\n",
       "      <td>0.0</td>\n",
       "      <td>417.67</td>\n",
       "      <td>1.515916e+18</td>\n",
       "      <td>f</td>\n",
       "      <td>red</td>\n",
       "      <td>gold</td>\n",
       "      <td>amethyst</td>\n",
       "    </tr>\n",
       "    <tr>\n",
       "      <th>4</th>\n",
       "      <td>2018-12-02</td>\n",
       "      <td>1925760595336888995</td>\n",
       "      <td>1835566854827934449</td>\n",
       "      <td>1.806829e+18</td>\n",
       "      <td>jewelry.earring</td>\n",
       "      <td>1.0</td>\n",
       "      <td>102.27</td>\n",
       "      <td>1.515916e+18</td>\n",
       "      <td>f</td>\n",
       "      <td>red</td>\n",
       "      <td>gold</td>\n",
       "      <td>unknown</td>\n",
       "    </tr>\n",
       "  </tbody>\n",
       "</table>\n",
       "</div>"
      ],
      "text/plain": [
       "     Datetime              OrderID            ProductID    CategoryID  \\\n",
       "0  2018-12-01  1924899396621697920  1806829193678291446  1.806829e+18   \n",
       "1  2018-12-02  1925511016616034733  1842214461889315556  1.806829e+18   \n",
       "2  2018-12-02  1925626951238681511  1835566849434059453  1.806829e+18   \n",
       "3  2018-12-02  1925740842841014667  1873936840742928865  1.806829e+18   \n",
       "4  2018-12-02  1925760595336888995  1835566854827934449  1.806829e+18   \n",
       "\n",
       "       CategoryCode BrandID  USDPrice        UserID Gender   Color Metal  \\\n",
       "0             other      -1    212.14  1.515916e+18      f  yellow  gold   \n",
       "1   jewelry.pendant     1.0     54.66  1.515916e+18      f   white  gold   \n",
       "2   jewelry.pendant     0.0     88.90  1.515916e+18      f     red  gold   \n",
       "3  jewelry.necklace     0.0    417.67  1.515916e+18      f     red  gold   \n",
       "4   jewelry.earring     1.0    102.27  1.515916e+18      f     red  gold   \n",
       "\n",
       "        Gem  \n",
       "0   unknown  \n",
       "1  sapphire  \n",
       "2   diamond  \n",
       "3  amethyst  \n",
       "4   unknown  "
      ]
     },
     "execution_count": 50,
     "metadata": {},
     "output_type": "execute_result"
    }
   ],
   "source": [
    "new_df['Datetime'] = new_df.Datetime.apply(lambda x : x[:10])\n",
    "new_df.head()"
   ]
  },
  {
   "cell_type": "code",
   "execution_count": 57,
   "id": "8f07ef46-377c-4e1e-9dfb-a5db88308293",
   "metadata": {},
   "outputs": [
    {
     "data": {
      "text/html": [
       "<div>\n",
       "<style scoped>\n",
       "    .dataframe tbody tr th:only-of-type {\n",
       "        vertical-align: middle;\n",
       "    }\n",
       "\n",
       "    .dataframe tbody tr th {\n",
       "        vertical-align: top;\n",
       "    }\n",
       "\n",
       "    .dataframe thead th {\n",
       "        text-align: right;\n",
       "    }\n",
       "</style>\n",
       "<table border=\"1\" class=\"dataframe\">\n",
       "  <thead>\n",
       "    <tr style=\"text-align: right;\">\n",
       "      <th></th>\n",
       "      <th>Datetime</th>\n",
       "      <th>USDPrice</th>\n",
       "    </tr>\n",
       "  </thead>\n",
       "  <tbody>\n",
       "    <tr>\n",
       "      <th>0</th>\n",
       "      <td>2018-12-01</td>\n",
       "      <td>212.14</td>\n",
       "    </tr>\n",
       "    <tr>\n",
       "      <th>1</th>\n",
       "      <td>2018-12-02</td>\n",
       "      <td>897.47</td>\n",
       "    </tr>\n",
       "    <tr>\n",
       "      <th>2</th>\n",
       "      <td>2018-12-03</td>\n",
       "      <td>978.85</td>\n",
       "    </tr>\n",
       "    <tr>\n",
       "      <th>3</th>\n",
       "      <td>2018-12-04</td>\n",
       "      <td>3486.05</td>\n",
       "    </tr>\n",
       "    <tr>\n",
       "      <th>4</th>\n",
       "      <td>2018-12-05</td>\n",
       "      <td>1246.58</td>\n",
       "    </tr>\n",
       "  </tbody>\n",
       "</table>\n",
       "</div>"
      ],
      "text/plain": [
       "     Datetime  USDPrice\n",
       "0  2018-12-01    212.14\n",
       "1  2018-12-02    897.47\n",
       "2  2018-12-03    978.85\n",
       "3  2018-12-04   3486.05\n",
       "4  2018-12-05   1246.58"
      ]
     },
     "execution_count": 57,
     "metadata": {},
     "output_type": "execute_result"
    }
   ],
   "source": [
    "sales_df =  pd.pivot_table(new_df, \n",
    "                 index= 'Datetime' ,\n",
    "                 values= 'USDPrice'  ,\n",
    "                 aggfunc= 'sum' ).reset_index()\n",
    "\n",
    "sales_df.head()\n"
   ]
  },
  {
   "cell_type": "code",
   "execution_count": null,
   "id": "c479770d-f6b0-4c73-8c13-95340065c3fd",
   "metadata": {},
   "outputs": [],
   "source": []
  }
 ],
 "metadata": {
  "kernelspec": {
   "display_name": "Python 3 (ipykernel)",
   "language": "python",
   "name": "python3"
  },
  "language_info": {
   "codemirror_mode": {
    "name": "ipython",
    "version": 3
   },
   "file_extension": ".py",
   "mimetype": "text/x-python",
   "name": "python",
   "nbconvert_exporter": "python",
   "pygments_lexer": "ipython3",
   "version": "3.13.1"
  }
 },
 "nbformat": 4,
 "nbformat_minor": 5
}
